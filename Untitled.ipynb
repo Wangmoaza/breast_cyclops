{
 "cells": [
  {
   "cell_type": "code",
   "execution_count": 9,
   "metadata": {
    "collapsed": true
   },
   "outputs": [],
   "source": [
    "import pandas as pd\n",
    "import numpy as np\n",
    "import matplotlib.pyplot as plt"
   ]
  },
  {
   "cell_type": "code",
   "execution_count": 2,
   "metadata": {},
   "outputs": [
    {
     "data": {
      "text/html": [
       "<div>\n",
       "<style>\n",
       "    .dataframe thead tr:only-child th {\n",
       "        text-align: right;\n",
       "    }\n",
       "\n",
       "    .dataframe thead th {\n",
       "        text-align: left;\n",
       "    }\n",
       "\n",
       "    .dataframe tbody tr th {\n",
       "        vertical-align: top;\n",
       "    }\n",
       "</style>\n",
       "<table border=\"1\" class=\"dataframe\">\n",
       "  <thead>\n",
       "    <tr style=\"text-align: right;\">\n",
       "      <th></th>\n",
       "      <th>BT20_BREAST</th>\n",
       "      <th>BT474_BREAST</th>\n",
       "      <th>CAL120_BREAST</th>\n",
       "      <th>CAL51_BREAST</th>\n",
       "      <th>EFM19_BREAST</th>\n",
       "      <th>HCC1187_BREAST</th>\n",
       "      <th>HCC1395_BREAST</th>\n",
       "      <th>HCC1954_BREAST</th>\n",
       "      <th>HCC2218_BREAST</th>\n",
       "      <th>HCC70_BREAST</th>\n",
       "      <th>...</th>\n",
       "      <th>MDAMB157_BREAST</th>\n",
       "      <th>MDAMB175VII_BREAST</th>\n",
       "      <th>MDAMB231_BREAST</th>\n",
       "      <th>MDAMB361_BREAST</th>\n",
       "      <th>MDAMB415_BREAST</th>\n",
       "      <th>MDAMB436_BREAST</th>\n",
       "      <th>MDAMB468_BREAST</th>\n",
       "      <th>T47D_BREAST</th>\n",
       "      <th>UACC812_BREAST</th>\n",
       "      <th>ZR751_BREAST</th>\n",
       "    </tr>\n",
       "    <tr>\n",
       "      <th>gene</th>\n",
       "      <th></th>\n",
       "      <th></th>\n",
       "      <th></th>\n",
       "      <th></th>\n",
       "      <th></th>\n",
       "      <th></th>\n",
       "      <th></th>\n",
       "      <th></th>\n",
       "      <th></th>\n",
       "      <th></th>\n",
       "      <th></th>\n",
       "      <th></th>\n",
       "      <th></th>\n",
       "      <th></th>\n",
       "      <th></th>\n",
       "      <th></th>\n",
       "      <th></th>\n",
       "      <th></th>\n",
       "      <th></th>\n",
       "      <th></th>\n",
       "      <th></th>\n",
       "    </tr>\n",
       "  </thead>\n",
       "  <tbody>\n",
       "    <tr>\n",
       "      <th>A1BG</th>\n",
       "      <td>0.3890</td>\n",
       "      <td>0.0706</td>\n",
       "      <td>0.6705</td>\n",
       "      <td>0.0093</td>\n",
       "      <td>-0.3960</td>\n",
       "      <td>0.4510</td>\n",
       "      <td>-0.4419</td>\n",
       "      <td>-0.1831</td>\n",
       "      <td>-0.9041</td>\n",
       "      <td>0.1532</td>\n",
       "      <td>...</td>\n",
       "      <td>-1.0125</td>\n",
       "      <td>0.0829</td>\n",
       "      <td>0.1025</td>\n",
       "      <td>0.0610</td>\n",
       "      <td>0.7256</td>\n",
       "      <td>0.3608</td>\n",
       "      <td>0.4525</td>\n",
       "      <td>-0.4435</td>\n",
       "      <td>0.1408</td>\n",
       "      <td>0.1895</td>\n",
       "    </tr>\n",
       "    <tr>\n",
       "      <th>NAT2</th>\n",
       "      <td>-1.1842</td>\n",
       "      <td>-0.3632</td>\n",
       "      <td>-0.4460</td>\n",
       "      <td>-0.0221</td>\n",
       "      <td>-1.2911</td>\n",
       "      <td>0.1809</td>\n",
       "      <td>-0.3732</td>\n",
       "      <td>-1.1852</td>\n",
       "      <td>-0.9934</td>\n",
       "      <td>-2.6228</td>\n",
       "      <td>...</td>\n",
       "      <td>-0.1954</td>\n",
       "      <td>0.0599</td>\n",
       "      <td>-0.2970</td>\n",
       "      <td>-1.4493</td>\n",
       "      <td>-0.6250</td>\n",
       "      <td>0.4757</td>\n",
       "      <td>-0.2931</td>\n",
       "      <td>-0.4268</td>\n",
       "      <td>-0.0632</td>\n",
       "      <td>-0.1390</td>\n",
       "    </tr>\n",
       "    <tr>\n",
       "      <th>ADA</th>\n",
       "      <td>0.7980</td>\n",
       "      <td>1.7516</td>\n",
       "      <td>0.5664</td>\n",
       "      <td>-0.0136</td>\n",
       "      <td>0.0845</td>\n",
       "      <td>-0.3531</td>\n",
       "      <td>0.5764</td>\n",
       "      <td>0.2520</td>\n",
       "      <td>0.6168</td>\n",
       "      <td>-1.3538</td>\n",
       "      <td>...</td>\n",
       "      <td>0.2583</td>\n",
       "      <td>0.6019</td>\n",
       "      <td>0.4531</td>\n",
       "      <td>0.2405</td>\n",
       "      <td>0.4371</td>\n",
       "      <td>-0.5746</td>\n",
       "      <td>0.1114</td>\n",
       "      <td>0.4846</td>\n",
       "      <td>0.1210</td>\n",
       "      <td>0.6378</td>\n",
       "    </tr>\n",
       "    <tr>\n",
       "      <th>CDH2</th>\n",
       "      <td>0.3634</td>\n",
       "      <td>0.2889</td>\n",
       "      <td>-0.1769</td>\n",
       "      <td>0.0093</td>\n",
       "      <td>-0.3419</td>\n",
       "      <td>0.6208</td>\n",
       "      <td>0.6477</td>\n",
       "      <td>-0.1493</td>\n",
       "      <td>0.0090</td>\n",
       "      <td>-0.1168</td>\n",
       "      <td>...</td>\n",
       "      <td>-0.7580</td>\n",
       "      <td>-0.7993</td>\n",
       "      <td>0.1173</td>\n",
       "      <td>0.1663</td>\n",
       "      <td>-0.8064</td>\n",
       "      <td>0.3604</td>\n",
       "      <td>-0.3606</td>\n",
       "      <td>-0.4444</td>\n",
       "      <td>0.0886</td>\n",
       "      <td>0.3677</td>\n",
       "    </tr>\n",
       "    <tr>\n",
       "      <th>AKT3</th>\n",
       "      <td>0.6755</td>\n",
       "      <td>1.4598</td>\n",
       "      <td>0.4514</td>\n",
       "      <td>-0.0409</td>\n",
       "      <td>0.4462</td>\n",
       "      <td>0.4859</td>\n",
       "      <td>0.1941</td>\n",
       "      <td>0.3615</td>\n",
       "      <td>0.9867</td>\n",
       "      <td>0.4725</td>\n",
       "      <td>...</td>\n",
       "      <td>0.7559</td>\n",
       "      <td>0.6839</td>\n",
       "      <td>0.1055</td>\n",
       "      <td>0.1966</td>\n",
       "      <td>1.5525</td>\n",
       "      <td>0.3888</td>\n",
       "      <td>0.4108</td>\n",
       "      <td>0.1410</td>\n",
       "      <td>0.9513</td>\n",
       "      <td>1.1919</td>\n",
       "    </tr>\n",
       "  </tbody>\n",
       "</table>\n",
       "<p>5 rows × 34 columns</p>\n",
       "</div>"
      ],
      "text/plain": [
       "      BT20_BREAST  BT474_BREAST  CAL120_BREAST  CAL51_BREAST  EFM19_BREAST  \\\n",
       "gene                                                                         \n",
       "A1BG       0.3890        0.0706         0.6705        0.0093       -0.3960   \n",
       "NAT2      -1.1842       -0.3632        -0.4460       -0.0221       -1.2911   \n",
       "ADA        0.7980        1.7516         0.5664       -0.0136        0.0845   \n",
       "CDH2       0.3634        0.2889        -0.1769        0.0093       -0.3419   \n",
       "AKT3       0.6755        1.4598         0.4514       -0.0409        0.4462   \n",
       "\n",
       "      HCC1187_BREAST  HCC1395_BREAST  HCC1954_BREAST  HCC2218_BREAST  \\\n",
       "gene                                                                   \n",
       "A1BG          0.4510         -0.4419         -0.1831         -0.9041   \n",
       "NAT2          0.1809         -0.3732         -1.1852         -0.9934   \n",
       "ADA          -0.3531          0.5764          0.2520          0.6168   \n",
       "CDH2          0.6208          0.6477         -0.1493          0.0090   \n",
       "AKT3          0.4859          0.1941          0.3615          0.9867   \n",
       "\n",
       "      HCC70_BREAST      ...       MDAMB157_BREAST  MDAMB175VII_BREAST  \\\n",
       "gene                    ...                                             \n",
       "A1BG        0.1532      ...               -1.0125              0.0829   \n",
       "NAT2       -2.6228      ...               -0.1954              0.0599   \n",
       "ADA        -1.3538      ...                0.2583              0.6019   \n",
       "CDH2       -0.1168      ...               -0.7580             -0.7993   \n",
       "AKT3        0.4725      ...                0.7559              0.6839   \n",
       "\n",
       "      MDAMB231_BREAST  MDAMB361_BREAST  MDAMB415_BREAST  MDAMB436_BREAST  \\\n",
       "gene                                                                       \n",
       "A1BG           0.1025           0.0610           0.7256           0.3608   \n",
       "NAT2          -0.2970          -1.4493          -0.6250           0.4757   \n",
       "ADA            0.4531           0.2405           0.4371          -0.5746   \n",
       "CDH2           0.1173           0.1663          -0.8064           0.3604   \n",
       "AKT3           0.1055           0.1966           1.5525           0.3888   \n",
       "\n",
       "      MDAMB468_BREAST  T47D_BREAST  UACC812_BREAST  ZR751_BREAST  \n",
       "gene                                                              \n",
       "A1BG           0.4525      -0.4435          0.1408        0.1895  \n",
       "NAT2          -0.2931      -0.4268         -0.0632       -0.1390  \n",
       "ADA            0.1114       0.4846          0.1210        0.6378  \n",
       "CDH2          -0.3606      -0.4444          0.0886        0.3677  \n",
       "AKT3           0.4108       0.1410          0.9513        1.1919  \n",
       "\n",
       "[5 rows x 34 columns]"
      ]
     },
     "execution_count": 2,
     "metadata": {},
     "output_type": "execute_result"
    }
   ],
   "source": [
    "cnv = pd.read_table('../CCLE_BR_lines_CNV.txt', sep='\\t', header=0, index_col=0)\n",
    "cnv.head()"
   ]
  },
  {
   "cell_type": "code",
   "execution_count": 38,
   "metadata": {
    "scrolled": true
   },
   "outputs": [
    {
     "name": "stdout",
     "output_type": "stream",
     "text": [
      "(100,)\n",
      "(101,)\n"
     ]
    },
    {
     "data": {
      "text/plain": [
       "array([-6.9771 , -6.87198, -6.76686, -6.66174, -6.55662, -6.4515 ,\n",
       "       -6.34638, -6.24126, -6.13614, -6.03102, -5.9259 , -5.82078,\n",
       "       -5.71566, -5.61054, -5.50542, -5.4003 , -5.29518, -5.19006,\n",
       "       -5.08494, -4.97982, -4.8747 , -4.76958, -4.66446, -4.55934,\n",
       "       -4.45422, -4.3491 , -4.24398, -4.13886, -4.03374, -3.92862,\n",
       "       -3.8235 , -3.71838, -3.61326, -3.50814, -3.40302, -3.2979 ,\n",
       "       -3.19278, -3.08766, -2.98254, -2.87742, -2.7723 , -2.66718,\n",
       "       -2.56206, -2.45694, -2.35182, -2.2467 , -2.14158, -2.03646,\n",
       "       -1.93134, -1.82622, -1.7211 , -1.61598, -1.51086, -1.40574,\n",
       "       -1.30062, -1.1955 , -1.09038, -0.98526, -0.88014, -0.77502,\n",
       "       -0.6699 , -0.56478, -0.45966, -0.35454, -0.24942, -0.1443 ,\n",
       "       -0.03918,  0.06594,  0.17106,  0.27618,  0.3813 ,  0.48642,\n",
       "        0.59154,  0.69666,  0.80178,  0.9069 ,  1.01202,  1.11714,\n",
       "        1.22226,  1.32738,  1.4325 ,  1.53762,  1.64274,  1.74786,\n",
       "        1.85298,  1.9581 ,  2.06322,  2.16834,  2.27346,  2.37858,\n",
       "        2.4837 ,  2.58882,  2.69394,  2.79906,  2.90418,  3.0093 ,\n",
       "        3.11442,  3.21954,  3.32466,  3.42978,  3.5349 ])"
      ]
     },
     "execution_count": 38,
     "metadata": {},
     "output_type": "execute_result"
    }
   ],
   "source": [
    "hist, bin_edges = np.histogram(cnv['BT20_BREAST'].values, bins=100)\n",
    "print hist.shape\n",
    "print bin_edges.shape\n",
    "bin_edges"
   ]
  },
  {
   "cell_type": "code",
   "execution_count": 42,
   "metadata": {
    "scrolled": true
   },
   "outputs": [],
   "source": [
    "sample_hist = pd.DataFrame(data=hist, index=bin_edges[:-1], columns=['count'])"
   ]
  },
  {
   "cell_type": "code",
   "execution_count": 33,
   "metadata": {
    "scrolled": true
   },
   "outputs": [
    {
     "data": {
      "image/png": "[encoded data removed]",
      "text/plain": [
       "<matplotlib.figure.Figure at 0x7fb581e23c10>"
      ]
     },
     "metadata": {},
     "output_type": "display_data"
    },
    {
     "data": {
      "image/png": "[encoded data removed]",
      "text/plain": [
       "<matplotlib.figure.Figure at 0x7fb5848571d0>"
      ]
     },
     "metadata": {},
     "output_type": "display_data"
    }
   ],
   "source": [
    "plt.figure()\n",
    "cnv['BT20_BREAST'].plot.hist(bins=100)\n",
    "plt.show()"
   ]
  },
  {
   "cell_type": "code",
   "execution_count": 44,
   "metadata": {},
   "outputs": [],
   "source": [
    "smoothe_hist = sample_hist.rolling(window=5).mean()"
   ]
  },
  {
   "cell_type": "code",
   "execution_count": 46,
   "metadata": {},
   "outputs": [
    {
     "data": {
      "text/plain": [
       "<matplotlib.figure.Figure at 0x7fb580fc6310>"
      ]
     },
     "metadata": {},
     "output_type": "display_data"
    },
    {
     "data": {
      "image/png": "[encoded data removed]",
      "text/plain": [
       "<matplotlib.figure.Figure at 0x7fb580fc6110>"
      ]
     },
     "metadata": {},
     "output_type": "display_data"
    },
    {
     "data": {
      "text/plain": [
       "<matplotlib.figure.Figure at 0x7fb580eef210>"
      ]
     },
     "metadata": {},
     "output_type": "display_data"
    },
    {
     "data": {
      "image/png": "[encoded data removed]",
      "text/plain": [
       "<matplotlib.figure.Figure at 0x7fb580eef8d0>"
      ]
     },
     "metadata": {},
     "output_type": "display_data"
    }
   ],
   "source": [
    "plt.figure()\n",
    "smoothe_hist.plot()\n",
    "plt.show()"
   ]
  },
  {
   "cell_type": "code",
   "execution_count": null,
   "metadata": {
    "collapsed": true
   },
   "outputs": [],
   "source": []
  }
 ],
 "metadata": {
  "kernelspec": {
   "display_name": "Python 2",
   "language": "python",
   "name": "python2"
  },
  "language_info": {
   "codemirror_mode": {
    "name": "ipython",
    "version": 2
   },
   "file_extension": ".py",
   "mimetype": "text/x-python",
   "name": "python",
   "nbconvert_exporter": "python",
   "pygments_lexer": "ipython2",
   "version": "2.7.13"
  }
 },
 "nbformat": 4,
 "nbformat_minor": 2
}
